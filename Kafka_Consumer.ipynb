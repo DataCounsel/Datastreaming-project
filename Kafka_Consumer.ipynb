{
 "cells": [
  {
   "cell_type": "markdown",
   "id": "855be7e1",
   "metadata": {},
   "source": [
    "## Kafka Consumer"
   ]
  },
  {
   "cell_type": "code",
   "execution_count": null,
   "id": "f3feb417",
   "metadata": {},
   "outputs": [],
   "source": [
    "#Install the package to connect to the S3 bucket\n",
    "# pip install s3fs"
   ]
  },
  {
   "cell_type": "code",
   "execution_count": 4,
   "id": "b6675043",
   "metadata": {},
   "outputs": [],
   "source": [
    "from kafka import KafkaConsumer\n",
    "from time import sleep\n",
    "from json import dumps,loads\n",
    "import json\n",
    "from s3fs import S3FileSystem"
   ]
  },
  {
   "cell_type": "code",
   "execution_count": 5,
   "id": "9eeff3ef",
   "metadata": {
    "scrolled": true
   },
   "outputs": [],
   "source": [
    "consumer = KafkaConsumer(\n",
    "    'stock-market-project',\n",
    "     bootstrap_servers=['54.234.24.186:9092'], #ip address of ec2 instance:9092\n",
    "    value_deserializer=lambda x: loads(x.decode('utf-8')))"
   ]
  },
  {
   "cell_type": "code",
   "execution_count": null,
   "id": "eda5a608",
   "metadata": {
    "scrolled": true
   },
   "outputs": [],
   "source": [
    "#Use this line to check if producer values are showing here before using the main dataset\n",
    "\n",
    "# for c in consumer:\n",
    "#     print(c.value)"
   ]
  },
  {
   "cell_type": "code",
   "execution_count": 8,
   "id": "8d60dc6c",
   "metadata": {},
   "outputs": [],
   "source": [
    "s3 = S3FileSystem()"
   ]
  },
  {
   "cell_type": "code",
   "execution_count": null,
   "id": "0f135e81",
   "metadata": {
    "scrolled": true
   },
   "outputs": [],
   "source": [
    "## Don't run this too long run it for only for 5 to 10 seconds to generate enough data.\n",
    "for count, i in enumerate(consumer):\n",
    "    with s3.open(\"s3://stockmarket-project/stock_market_{}.json\".format(count), 'w') as file:\n",
    "        json.dump(i.value, file)    "
   ]
  },
  {
   "cell_type": "code",
   "execution_count": null,
   "id": "9afccf53",
   "metadata": {},
   "outputs": [],
   "source": []
  }
 ],
 "metadata": {
  "kernelspec": {
   "display_name": "Python 3 (ipykernel)",
   "language": "python",
   "name": "python3"
  },
  "language_info": {
   "codemirror_mode": {
    "name": "ipython",
    "version": 3
   },
   "file_extension": ".py",
   "mimetype": "text/x-python",
   "name": "python",
   "nbconvert_exporter": "python",
   "pygments_lexer": "ipython3",
   "version": "3.11.3"
  }
 },
 "nbformat": 4,
 "nbformat_minor": 5
}
